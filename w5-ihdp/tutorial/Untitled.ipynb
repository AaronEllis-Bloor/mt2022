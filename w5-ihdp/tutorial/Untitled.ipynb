{
 "cells": [
  {
   "cell_type": "code",
   "execution_count": 1,
   "id": "3188e611",
   "metadata": {},
   "outputs": [],
   "source": [
    "import numpy as np"
   ]
  },
  {
   "cell_type": "code",
   "execution_count": 3,
   "id": "5d3d910d",
   "metadata": {},
   "outputs": [],
   "source": [
    "T = 10\n",
    "\n",
    "y0 = 1.0\n",
    "\n",
    "# Model parameters\n",
    "α = 0.23843\n",
    "θ = 1.0\n",
    "\n",
    "# State space bounds\n",
    "y_min = 0.0\n",
    "y_max = max((1.0**(1.0/(1.0-α))), y0)\n",
    "\n",
    "M = 1000\n",
    "N = 100\n",
    "\n",
    "# Action set\n",
    "A = np.linspace(y_min, y_max, M)\n",
    "\n",
    "# State space\n",
    "S = np.linspace(y_min, y_max, N)"
   ]
  },
  {
   "cell_type": "code",
   "execution_count": 4,
   "id": "84202d12",
   "metadata": {},
   "outputs": [],
   "source": [
    "# Primitive functions\n",
    "\n",
    "def π(x, θ):\n",
    "    \"\"\"Per period payoff function - CRRA utility function\"\"\"\n",
    "    \n",
    "    x = np.asarray(x)\n",
    "    \n",
    "    x[x==0.0] = np.finfo(float).eps\n",
    "    \n",
    "    if θ > 0.0:\n",
    "        if θ == 1.0:\n",
    "            u = np.log(x)\n",
    "        else:\n",
    "            u = (x**(1-θ) - 1) / (1 - θ)\n",
    "    else:\n",
    "        print(\"Error: θ must be positive\")\n",
    "        \n",
    "    return u\n",
    "\n",
    "def f(z, α):\n",
    "    '''Dynamic constraint'''\n",
    "    \n",
    "    return z**α"
   ]
  },
  {
   "cell_type": "code",
   "execution_count": 13,
   "id": "582be123",
   "metadata": {},
   "outputs": [],
   "source": [
    "def bellman_finite(S, Vnext, A, α, θ):\n",
    "     \n",
    "    # Storage space\n",
    "    n_state = len(Vnext)\n",
    "    Vnow = np.empty(n_state)\n",
    "    gnow = Vnow.copy()\n",
    "    \n",
    "    for idx_ynow, ynow in enumerate(S):\n",
    "        \n",
    "        A_feasible = np.sort(np.insert(A, 0, ynow))\n",
    "        \n",
    "        x = A_feasible[A_feasible <= ynow]\n",
    "        \n",
    "        ynext = f(ynow - x, α)\n",
    "        \n",
    "        Vnext_interpolated = InterpFun1d(S, Vnext)"
   ]
  },
  {
   "cell_type": "code",
   "execution_count": null,
   "id": "cabd5406",
   "metadata": {},
   "outputs": [],
   "source": []
  }
 ],
 "metadata": {
  "kernelspec": {
   "display_name": "Python 3 (ipykernel)",
   "language": "python",
   "name": "python3"
  },
  "language_info": {
   "codemirror_mode": {
    "name": "ipython",
    "version": 3
   },
   "file_extension": ".py",
   "mimetype": "text/x-python",
   "name": "python",
   "nbconvert_exporter": "python",
   "pygments_lexer": "ipython3",
   "version": "3.9.7"
  }
 },
 "nbformat": 4,
 "nbformat_minor": 5
}
