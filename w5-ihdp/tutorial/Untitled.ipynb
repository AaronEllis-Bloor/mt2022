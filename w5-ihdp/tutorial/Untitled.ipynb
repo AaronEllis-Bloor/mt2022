{
 "cells": [
  {
   "cell_type": "code",
   "execution_count": 1,
   "id": "d406c847",
   "metadata": {},
   "outputs": [],
   "source": [
    "import numpy as np"
   ]
  },
  {
   "cell_type": "code",
   "execution_count": null,
   "id": "1bcf6af4",
   "metadata": {},
   "outputs": [],
   "source": [
    "T = 10\n",
    "\n",
    "y0 = 1.0\n",
    "\n",
    "# Model parameters\n",
    "α = 0.23843\n",
    "θ = 1.0\n",
    "\n",
    "# State space bounds\n",
    "y_min"
   ]
  }
 ],
 "metadata": {
  "kernelspec": {
   "display_name": "Python 3 (ipykernel)",
   "language": "python",
   "name": "python3"
  },
  "language_info": {
   "codemirror_mode": {
    "name": "ipython",
    "version": 3
   },
   "file_extension": ".py",
   "mimetype": "text/x-python",
   "name": "python",
   "nbconvert_exporter": "python",
   "pygments_lexer": "ipython3",
   "version": "3.9.7"
  }
 },
 "nbformat": 4,
 "nbformat_minor": 5
}
