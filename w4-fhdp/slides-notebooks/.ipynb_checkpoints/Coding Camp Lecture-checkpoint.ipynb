{
 "cells": [
  {
   "cell_type": "code",
   "execution_count": 26,
   "id": "06b93b3e",
   "metadata": {},
   "outputs": [],
   "source": [
    "import numpy as np\n",
    "import scipy.optimize as optimize\n",
    "import scipy.interpolate as interpolate\n",
    "from matplotlib import pyplot as plt"
   ]
  },
  {
   "cell_type": "code",
   "execution_count": 17,
   "id": "45311201",
   "metadata": {},
   "outputs": [],
   "source": [
    "%matplotlib inline"
   ]
  },
  {
   "cell_type": "code",
   "execution_count": 18,
   "id": "a480fd3f",
   "metadata": {},
   "outputs": [],
   "source": [
    "def f(k, α):\n",
    "    \"\"\"Production function, Cobb-Douglas-α family\n",
    "    \n",
    "        Inputs:\n",
    "        _______\n",
    "        k (float) positive real (capital stock)\n",
    "        α (float) between 0 and 1\n",
    "    \"\"\"\n",
    "    return k**α"
   ]
  },
  {
   "cell_type": "code",
   "execution_count": 19,
   "id": "8c7bddc2",
   "metadata": {},
   "outputs": [],
   "source": [
    "def U(c):\n",
    "    \"\"\"Utility function - log\"\"\"\n",
    "    return np.log(c)"
   ]
  },
  {
   "cell_type": "code",
   "execution_count": 46,
   "id": "d206c26f",
   "metadata": {},
   "outputs": [],
   "source": [
    "# Initial, date-0 state\n",
    "k0 = 0.5\n",
    "\n",
    "# Lower bound of domain\n",
    "k_lb = 1e-12\n",
    "k_ub = max([1.0, k0])\n",
    "\n",
    "N_points = 1000\n",
    "X = np.linspace(k_lb, k_ub, N_points)"
   ]
  },
  {
   "cell_type": "code",
   "execution_count": 47,
   "id": "14aebd33",
   "metadata": {},
   "outputs": [],
   "source": [
    "def bellman(V_next, X, α, β):\n",
    "    \"\"\"The Bellman Operator\"\"\"\n",
    "    \n",
    "    # Storage for current-stage value and decision functions\n",
    "    V_now = np.empty(X.shape)\n",
    "    g_now = V_now.copy()\n",
    "    \n",
    "    # Loop over elements in discrete approx. domain\n",
    "    for idx_k, k in enumerate(X):\n",
    "        # Define negative of objective function on the fly\n",
    "        objective_function = \\\n",
    "                lambda k_next: -(U(f(k, α) - k_next) + β*V_next(k_next))\n",
    "        # Minimise continuous function over bounded set [k_lb, k_ub]\n",
    "        k_lb, k_ub = X.min(), f(k, α)\n",
    "        k_next_star = \\\n",
    "            optimize.fminbound(objective_function, k_lb, k_ub)\n",
    "        # Indirect utility from best response behaviour\n",
    "        V_now[idx_k] = -objective_function(k_next_star)\n",
    "        # ... supported/induced by optimal choice function\n",
    "        g_now[idx_k] = k_next_star\n",
    "    return g_now, V_now"
   ]
  },
  {
   "cell_type": "code",
   "execution_count": 48,
   "id": "3ecd3f41",
   "metadata": {},
   "outputs": [],
   "source": [
    "def FittedFunction(X, V_data):\n",
    "    \"\"\"An interpolated function using linear basis functions\"\"\"\n",
    "    # f is an object created by SciPy's interpolation scheme\n",
    "    f = interpolate.interp1d(X, V_data)\n",
    "    return f\n",
    "    "
   ]
  },
  {
   "cell_type": "code",
   "execution_count": 49,
   "id": "707e9ce7",
   "metadata": {},
   "outputs": [],
   "source": [
    "def BackwardInduction(X, α, β, T=2):\n",
    "    # Stage T+1 (scrap) value function \n",
    "    V_next_data = np.zeros(X.size)\n",
    "    # Interpolate continuation value function\n",
    "    V_next = FittedFunction(X, V_next_data)\n",
    "    \n",
    "    # Create list for collecting policy and value functions\n",
    "    g_list = []\n",
    "    V_list = []\n",
    "    \n",
    "    # Backward induction loop\n",
    "    for t in range(T, -1, -1):\n",
    "        print(\"Solving stage %i\" %(t))\n",
    "        # Get optimizers (evaluate Bellman operator)\n",
    "        g, V = bellman(V_next, X, α, β)\n",
    "        \n",
    "        # Interpolate \n",
    "        g_fitted = FittedFunction(X, g)\n",
    "        V_fitted = FittedFunction(X, V)\n",
    "        \n",
    "        # Store in lists\n",
    "        g_list.append(g_fitted)\n",
    "        V_list.append(V_fitted)\n",
    "        \n",
    "        # Update the continuation value for previous stage\n",
    "        V_next = V_fitted\n",
    "        \n",
    "    # Return results\n",
    "    return g_list, V_list     "
   ]
  },
  {
   "cell_type": "markdown",
   "id": "56f6fc5f",
   "metadata": {},
   "source": [
    "# A parametric instance"
   ]
  },
  {
   "cell_type": "code",
   "execution_count": 50,
   "id": "a88976b7",
   "metadata": {},
   "outputs": [],
   "source": [
    "# Planning horizon\n",
    "T = 20\n",
    "\n",
    "# Model parameters\n",
    "α = 0.333\n",
    "β = 0.98"
   ]
  },
  {
   "cell_type": "markdown",
   "id": "513d85f6",
   "metadata": {},
   "source": [
    "Solve the backward induction problem"
   ]
  },
  {
   "cell_type": "code",
   "execution_count": 51,
   "id": "9d7f28fa",
   "metadata": {},
   "outputs": [
    {
     "name": "stdout",
     "output_type": "stream",
     "text": [
      "Solving stage 20\n",
      "Solving stage 19\n",
      "Solving stage 18\n",
      "Solving stage 17\n",
      "Solving stage 16\n",
      "Solving stage 15\n",
      "Solving stage 14\n",
      "Solving stage 13\n",
      "Solving stage 12\n",
      "Solving stage 11\n",
      "Solving stage 10\n",
      "Solving stage 9\n",
      "Solving stage 8\n",
      "Solving stage 7\n",
      "Solving stage 6\n",
      "Solving stage 5\n",
      "Solving stage 4\n",
      "Solving stage 3\n",
      "Solving stage 2\n",
      "Solving stage 1\n",
      "Solving stage 0\n"
     ]
    }
   ],
   "source": [
    "g_list, V_list = BackwardInduction(X, α, β, T=T)\n",
    "\n",
    "# Re-order list\n",
    "g_list = g_list[::-1]\n",
    "V_list = V_list[::-1]"
   ]
  },
  {
   "cell_type": "markdown",
   "id": "d1b29bc1",
   "metadata": {},
   "source": [
    "Visualize the results"
   ]
  },
  {
   "cell_type": "code",
   "execution_count": 52,
   "id": "f500c133",
   "metadata": {},
   "outputs": [
    {
     "data": {
      "image/png": "[encoded data removed]",
      "text/plain": [
       "<Figure size 432x288 with 1 Axes>"
      ]
     },
     "metadata": {
      "needs_background": "light"
     },
     "output_type": "display_data"
    }
   ],
   "source": [
    "plt.figure()\n",
    "for t in range(len(g_list)):\n",
    "    plt.plot(X, g_list[t](X))\n",
    "    plt.xlabel(\"$k_{t}$\")\n",
    "    plt.title(\"Stage-$t$ savings policy function\")"
   ]
  },
  {
   "cell_type": "code",
   "execution_count": 53,
   "id": "818989fb",
   "metadata": {},
   "outputs": [
    {
     "data": {
      "image/png": "[encoded data removed]",
      "text/plain": [
       "<Figure size 432x288 with 1 Axes>"
      ]
     },
     "metadata": {
      "needs_background": "light"
     },
     "output_type": "display_data"
    }
   ],
   "source": [
    "plt.figure()\n",
    "for t in range(len(V_list)):\n",
    "    plt.plot(X, V_list[t](X))\n",
    "    plt.xlabel(\"$k_{t}$\")\n",
    "    plt.title(\"Stage-$t$ value function\")"
   ]
  },
  {
   "cell_type": "markdown",
   "id": "e49b44d5",
   "metadata": {},
   "source": [
    "# Simulation\n",
    "\n",
    "What is optimal savings *outcome* if $t = 10$ and $k_{t} = 0.55123$?\n",
    "\n",
    "*Answer*: $k_{11} = g_{10}(0.55123) which is..."
   ]
  },
  {
   "cell_type": "code",
   "execution_count": 54,
   "id": "9ce13452",
   "metadata": {},
   "outputs": [
    {
     "data": {
      "text/plain": [
       "array(0.26726837)"
      ]
     },
     "execution_count": 54,
     "metadata": {},
     "output_type": "execute_result"
    }
   ],
   "source": [
    "g_list[10](0.55123)"
   ]
  },
  {
   "cell_type": "code",
   "execution_count": null,
   "id": "a45f47c4",
   "metadata": {},
   "outputs": [],
   "source": []
  }
 ],
 "metadata": {
  "kernelspec": {
   "display_name": "Python 3 (ipykernel)",
   "language": "python",
   "name": "python3"
  },
  "language_info": {
   "codemirror_mode": {
    "name": "ipython",
    "version": 3
   },
   "file_extension": ".py",
   "mimetype": "text/x-python",
   "name": "python",
   "nbconvert_exporter": "python",
   "pygments_lexer": "ipython3",
   "version": "3.9.7"
  }
 },
 "nbformat": 4,
 "nbformat_minor": 5
}
